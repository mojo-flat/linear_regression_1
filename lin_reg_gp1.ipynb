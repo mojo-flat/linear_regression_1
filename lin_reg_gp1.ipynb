{
 "cells": [
  {
   "cell_type": "markdown",
   "id": "0bde4a1e",
   "metadata": {},
   "source": [
    "# Linear Regression GP 1"
   ]
  },
  {
   "cell_type": "markdown",
   "id": "e8bc5548",
   "metadata": {},
   "source": [
    "***"
   ]
  },
  {
   "cell_type": "markdown",
   "id": "2b8fbecc",
   "metadata": {},
   "source": [
    "### GP 1 Goals\n",
    "\n",
    "Performing simple linear regression and understanding evaluation metrics.\n",
    "\n",
    "- Run a simple linear regression model in statsmodels or scikit-learn.\n",
    "- Discuss the real-world implications of the model results."
   ]
  },
  {
   "cell_type": "markdown",
   "id": "9b5b745a",
   "metadata": {},
   "source": [
    "## Related Lessons\n",
    "\n",
    " - [Simple Linear Regression Lab](https://github.com/learn-co-curriculum/dsc-simple-linear-regression-lab/tree/solution) \n",
    "\n",
    "  - [Interpreting Significance and P-values](https://github.com/learn-co-curriculum/dsc-significance-p-value)\n",
    "\n",
    "  - [Coefficient of Determination Lab](https://github.com/learn-co-curriculum/dsc-coefficient-of-determination-lab/tree/solution)\n",
    "\n",
    " - [OLS Statsmodels Lab](https://github.com/learn-co-curriculum/dsc-ols-statsmodels-lab/tree/solution)\n",
    "\n",
    " - [Complete Regression Lab](https://github.com/learn-co-curriculum/dsc-complete-regression-lab/tree/solution)\n",
    " \n",
    "    - Topics \n",
    "\n",
    "  - How to interpret the results from a simple linear regression model and discuss their real-world implications.\n",
    "- What multiple linear regression is and why it is useful for solving real-world problems.\n",
    "- How to run a multiple linear regression model in Python using statsmodels."
   ]
  },
  {
   "cell_type": "markdown",
   "id": "69f59ee1",
   "metadata": {},
   "source": [
    "### First Goal"
   ]
  },
  {
   "cell_type": "markdown",
   "id": "00366be9",
   "metadata": {},
   "source": [
    "- To understand how well our model is able to **predict** future conditions, trends, or **values**."
   ]
  },
  {
   "cell_type": "markdown",
   "id": "29575f5c",
   "metadata": {
    "ExecuteTime": {
     "end_time": "2022-04-07T13:14:18.694439Z",
     "start_time": "2022-04-07T13:14:18.680477Z"
    }
   },
   "source": [
    "Question 1: Does our regression line fit the data well?"
   ]
  },
  {
   "cell_type": "markdown",
   "id": "624b1a26",
   "metadata": {},
   "source": [
    "We make predictions on train and test data and measure the error to understand how well our model will generalize when making new predictions."
   ]
  },
  {
   "cell_type": "markdown",
   "id": "0870ff1b",
   "metadata": {},
   "source": [
    "###### Scope"
   ]
  },
  {
   "cell_type": "markdown",
   "id": "92b3777b",
   "metadata": {},
   "source": [
    "* We analyze the performance between the train and test predictions using various metrics:\n",
    "    - MAE\n",
    "    - MSE\n",
    "    - RMSE\n",
    "    - $R^2$\n",
    "    - Adjusted $R^2$"
   ]
  },
  {
   "cell_type": "markdown",
   "id": "fd36c982",
   "metadata": {},
   "source": [
    "### Second Goal"
   ]
  },
  {
   "cell_type": "markdown",
   "id": "b10ecfa5",
   "metadata": {
    "ExecuteTime": {
     "end_time": "2022-04-05T19:18:51.377159Z",
     "start_time": "2022-04-05T19:18:51.363196Z"
    }
   },
   "source": [
    "* To determine and **measure** the **relationships** between the dependent and independent variables."
   ]
  },
  {
   "cell_type": "markdown",
   "id": "36291cbd",
   "metadata": {},
   "source": [
    "Question 2: Are the coefficients statistically significant?"
   ]
  },
  {
   "cell_type": "markdown",
   "id": "36959793",
   "metadata": {},
   "source": [
    "### Third Goal"
   ]
  },
  {
   "cell_type": "markdown",
   "id": "30afd742",
   "metadata": {},
   "source": [
    "* To **understand** how one variable **changes** when another changes"
   ]
  },
  {
   "cell_type": "markdown",
   "id": "0683c96f",
   "metadata": {},
   "source": [
    "Question 3: What is the economic impact of the estimated coefficients?"
   ]
  },
  {
   "cell_type": "markdown",
   "id": "b11171d5",
   "metadata": {
    "ExecuteTime": {
     "end_time": "2022-04-08T15:34:33.785486Z",
     "start_time": "2022-04-08T15:34:33.773519Z"
    }
   },
   "source": [
    "##### Scope"
   ]
  },
  {
   "cell_type": "markdown",
   "id": "21dddf9b",
   "metadata": {
    "ExecuteTime": {
     "end_time": "2022-04-05T19:26:36.138400Z",
     "start_time": "2022-04-05T19:26:36.133414Z"
    }
   },
   "source": [
    "* The coefficients and p-values are able to inform us of the influence that an independent variable has on the dependent variable.\n",
    "\n",
    "    - Coefficients\n",
    "    - $p-value$"
   ]
  },
  {
   "cell_type": "code",
   "execution_count": 1,
   "id": "4799780e",
   "metadata": {},
   "outputs": [],
   "source": [
    "# import libraries\n",
    "import pandas as pd\n",
    "import numpy as np\n",
    "\n",
    "import matplotlib.pyplot as plt\n",
    "import seaborn as sns\n",
    "\n",
    "import warnings\n",
    "warnings.filterwarnings('ignore')\n",
    "%matplotlib inline"
   ]
  },
  {
   "cell_type": "code",
   "execution_count": 2,
   "id": "ad241d25",
   "metadata": {},
   "outputs": [],
   "source": [
    "# This is an example sample size. When conducting regression modeling \n",
    "# it is generally agreed that sample size be a minimum of 20-30 instances.\n",
    "\n",
    "# Why?\n",
    "\n",
    "# hours spent on project\n",
    "x = [34, 35, 39, 42, 43, 47]\n",
    "\n",
    "# project score\n",
    "y = [78, 75, 86, 91, 88, 98]"
   ]
  },
  {
   "cell_type": "code",
   "execution_count": 3,
   "id": "bef6ce47",
   "metadata": {},
   "outputs": [],
   "source": [
    "# What are the independent and dependent variables (answer in markdown)\n"
   ]
  },
  {
   "cell_type": "code",
   "execution_count": 4,
   "id": "81133e8c",
   "metadata": {},
   "outputs": [],
   "source": [
    "# create pandas DataFrame\n"
   ]
  },
  {
   "cell_type": "code",
   "execution_count": 5,
   "id": "54299e4a",
   "metadata": {},
   "outputs": [],
   "source": [
    "# plot our data (try scatter)\n"
   ]
  },
  {
   "cell_type": "markdown",
   "id": "8566c03b",
   "metadata": {},
   "source": [
    "This data appears linear in nature. This is great news as it a sign that our variables share a linear relationship. \n",
    "\n",
    "At this point, it is important to keep the assumptions of linear regression in mind as model our data. If these assumption are not met, we can not be confident in the accuracy of our model. The assumptions we will explore in this notebook are:\n",
    "\n",
    "- Linearity: there is a linear relationship between the independent and dependent variables\n",
    "- Homoscedasticity: the variance for the residual is the same for any value of x\n",
    "- Independence: observations are independent of one another\n",
    "- Normality: residuals are normally distributed\n",
    "\n",
    "Now let's fit a linear regression model to this data."
   ]
  },
  {
   "cell_type": "code",
   "execution_count": 6,
   "id": "9ab0468b",
   "metadata": {},
   "outputs": [],
   "source": [
    "# https://www.statsmodels.org/stable/regression.html\n",
    "# import statsmodels library from statsmodels api\n",
    "import statsmodels.api as sm\n",
    "\n",
    "# create predictors\n",
    "\n",
    "\n",
    "# add a constant that represents beta_nought\n",
    "\n",
    "\n",
    "# fit model to data usingthe existing x and y as arguments.\n"
   ]
  },
  {
   "cell_type": "markdown",
   "id": "62d42b9a",
   "metadata": {},
   "source": [
    "## Ordinary least Squares\n",
    "\n",
    "Recall the goal of OLS, minimize the sum of the squares of the differences."
   ]
  },
  {
   "cell_type": "markdown",
   "id": "b2b9184c",
   "metadata": {},
   "source": [
    "$$ \\hat y = \\hat\\beta_0 + \\hat\\beta_1 x$$\n",
    "\n",
    "where $\\hat\\beta_0 $ is the constant of the equation, and $ \\hat\\beta_1 $ is the slope."
   ]
  },
  {
   "cell_type": "code",
   "execution_count": 7,
   "id": "3ad890af",
   "metadata": {},
   "outputs": [],
   "source": [
    "# display model coefficients\n"
   ]
  },
  {
   "cell_type": "markdown",
   "id": "0e0e38a3",
   "metadata": {},
   "source": [
    "### Coefficients"
   ]
  },
  {
   "cell_type": "markdown",
   "id": "7cec5fc5",
   "metadata": {},
   "source": [
    "$$ \\hat y = 20.516 + 1.63 x$$"
   ]
  },
  {
   "cell_type": "markdown",
   "id": "58c22e7e",
   "metadata": {},
   "source": [
    "With the coefficients we can acheive the goals of linear regression:\n",
    "    \n",
    "    - To determine and measure the relationships between the dependent and independent variables\n",
    "    \n",
    "    - To understand how one variable changes when another changes"
   ]
  },
  {
   "cell_type": "markdown",
   "id": "3a03bbd6",
   "metadata": {},
   "source": [
    "***Coefficients***: The coefficient of the feature describe the mathematical relationship between each independent variable and the dependent variable, which in this case is the project score. \n",
    "\n",
    "The coefficient value helps us understand the marginal effect of the features on the dependent variable. \n",
    "\n",
    "**Given a one-unit change in hours, how much is the score changed**?"
   ]
  },
  {
   "cell_type": "code",
   "execution_count": 8,
   "id": "5dd6b734",
   "metadata": {},
   "outputs": [],
   "source": [
    "# Answer here\n"
   ]
  },
  {
   "cell_type": "markdown",
   "id": "34a8e03b",
   "metadata": {},
   "source": [
    "**If a student spent `0` hours on their project, what score does our model predict the student will have?**"
   ]
  },
  {
   "cell_type": "code",
   "execution_count": null,
   "id": "2da2a8b7",
   "metadata": {},
   "outputs": [],
   "source": [
    "# Answer here\n"
   ]
  },
  {
   "cell_type": "markdown",
   "id": "d2d08b61",
   "metadata": {},
   "source": [
    "They also **inform us if there is a positive or negative correlation between the features and target**."
   ]
  },
  {
   "cell_type": "markdown",
   "id": "4f77c7a5",
   "metadata": {},
   "source": [
    "$$ \\hat y = 20.516 + 1.63 x$$"
   ]
  },
  {
   "cell_type": "code",
   "execution_count": 8,
   "id": "3bd147d3",
   "metadata": {},
   "outputs": [],
   "source": [
    "# https://seaborn.pydata.org/generated/seaborn.regplot.html\n",
    "# visualize linear model without\n"
   ]
  },
  {
   "cell_type": "code",
   "execution_count": 9,
   "id": "f32999e8",
   "metadata": {
    "scrolled": false
   },
   "outputs": [],
   "source": [
    "# https://seaborn.pydata.org/generated/seaborn.regplot.html\n",
    "# Visualize linear regression model with ci\n"
   ]
  },
  {
   "cell_type": "markdown",
   "id": "00048690",
   "metadata": {},
   "source": [
    "A 95 percent confidence interval includes 95 percent of the bootstrapped sample means.\n",
    "\n",
    "Here any value outside of the 95 percent confidence interval is considered an outlier that occurs less than 5% of the time.\n",
    "\n",
    "The p-value for any value outside this confidence interval is less than 0.05 and thus statistically significant."
   ]
  },
  {
   "cell_type": "markdown",
   "id": "f1595390",
   "metadata": {},
   "source": [
    "### Model.summary()"
   ]
  },
  {
   "cell_type": "markdown",
   "id": "01f07360",
   "metadata": {},
   "source": [
    "We can call the `.summary()` method which will display several results from our model:"
   ]
  },
  {
   "cell_type": "markdown",
   "id": "47aa0362",
   "metadata": {},
   "source": [
    "Notice that statsmodels informs us there are not enough observations to be confident in the relationship described by our model."
   ]
  },
  {
   "cell_type": "markdown",
   "id": "d077137a",
   "metadata": {},
   "source": [
    "#### Interpreting Linear regression results"
   ]
  },
  {
   "cell_type": "code",
   "execution_count": 10,
   "id": "afd6b338",
   "metadata": {},
   "outputs": [],
   "source": [
    "# return evaluation metrics for model\n"
   ]
  },
  {
   "cell_type": "markdown",
   "id": "2fc5c59c",
   "metadata": {},
   "source": [
    "### R squared\n",
    "\n",
    "The **percentage of variation explained by the relationship between the dependent variable and the independent variables**. Lies within values between 0 and 1.\n",
    "\n",
    "$$SS_{residual} = \\sum (y - \\hat{y})^2 $$\n",
    "\n",
    "is the squared difference between $y$ and $\\hat y$ (predicted y)\n",
    "\n",
    "$$SS_{total} = \\sum (y - \\bar{y})^2 $$\n",
    "\n",
    "is the squared difference between $y$ and $\\overline y$ (mean of y)\n",
    "\n",
    "So that\n",
    "\n",
    "$$R^2 = 1- \\dfrac{SS_{residual}}{SS_{total}}$$"
   ]
  },
  {
   "cell_type": "code",
   "execution_count": 11,
   "id": "aa3a9262",
   "metadata": {},
   "outputs": [],
   "source": [
    "# percentage of variance in the y variable explained by the x variable\n"
   ]
  },
  {
   "cell_type": "markdown",
   "id": "ca2b261c",
   "metadata": {},
   "source": [
    "An R-squared value of 0.750 can be described conceptually as: \n",
    "\n",
    "> ***92.8% of the variations in dependent variable $score$ are explained by the independent variables $hours$ in our model.***"
   ]
  },
  {
   "cell_type": "markdown",
   "id": "fa9a427e",
   "metadata": {},
   "source": [
    "This means there is **92.8% less variation around the regression line than the mean**, or the relationship between the dependent variable and the independent variables explains 92.8% of the variation in the data.\n",
    "\n",
    "We can also say that 7.2% of the variation of the `score` variable is not explained by our model."
   ]
  },
  {
   "cell_type": "markdown",
   "id": "6c192ca0",
   "metadata": {},
   "source": [
    "##### Adjusted R-Squared\n",
    "\n",
    "***Adjusted $R^2$***: The Adjusted $R^2$ is **a key metric for evaluation of a multivariate linear regression model**, as **it accounts for the number of predictors in a model** when calculating the model's goodness-of-fit. It is a more accurate measure for assessing if our model explains changes in the dependent variable. \n",
    "\n",
    "$$R^2_{adj}= 1-(1-R^2)\\dfrac{n-1}{n-p-1}$$"
   ]
  },
  {
   "cell_type": "code",
   "execution_count": 12,
   "id": "24e5aa2c",
   "metadata": {
    "ExecuteTime": {
     "end_time": "2022-04-08T15:41:12.362715Z",
     "start_time": "2022-04-08T15:41:12.348752Z"
    }
   },
   "outputs": [],
   "source": [
    "# display adjusted r-squared\n"
   ]
  },
  {
   "cell_type": "markdown",
   "id": "3084ba5b",
   "metadata": {
    "ExecuteTime": {
     "end_time": "2022-04-07T19:05:09.914062Z",
     "start_time": "2022-04-07T19:05:09.900100Z"
    }
   },
   "source": [
    "### F-statistic"
   ]
  },
  {
   "cell_type": "markdown",
   "id": "e8cba205",
   "metadata": {},
   "source": [
    "R-squared measures the strength of the relationship between our model and the dependent variable. \n",
    "\n",
    "However, it is not a formal test for the relationship. The F-test of overall significance is the hypothesis test for this relationship. \n",
    "\n",
    "The F-test of overall significance informs us **whether our linear regression model provides a better fit to the data than a model that contains no independent variables, or the intercept-only model.** \n",
    "\n",
    "For the intercept-only model, all of the model’s predictions equal the mean of the dependent variable. \n",
    "\n",
    "If the overall F-test is statistically significant, our model’s predictions are an improvement over using the mean."
   ]
  },
  {
   "cell_type": "code",
   "execution_count": 13,
   "id": "ab8bd1e6",
   "metadata": {},
   "outputs": [],
   "source": [
    "# f-statistic to compare p-value\n"
   ]
  },
  {
   "cell_type": "markdown",
   "id": "cd42c675",
   "metadata": {},
   "source": [
    "The F-test for overall significance has two hypotheses:\n",
    "\n",
    "**_Null Hypothesis_** $H_{0}$ : The intercept-only model fits the data as well as our model.\n",
    "\n",
    "**_Alternative Hypothesis_** $H_{1}$ : The model fits the data better than the intercept-only model."
   ]
  },
  {
   "cell_type": "markdown",
   "id": "07ae1b18",
   "metadata": {},
   "source": [
    "The null hypothesis should contain an equality (=, ≤ ,≥):\n",
    "  - Average NBA Player's Height = 2.0m (6ft7in)\n",
    "  - 𝐻0 : 𝜇 = 2.0\n",
    "\n",
    "The alternate hypothesis should not have an equality (≠,<,>):\n",
    "\n",
    " - Average NBA Player's Height ≠ 2.0m (6ft7in)\n",
    " - 𝐻1 : 𝜇 ≠ 2.0 "
   ]
  },
  {
   "cell_type": "markdown",
   "id": "1cf7fc1e",
   "metadata": {
    "ExecuteTime": {
     "end_time": "2022-04-07T19:05:09.930020Z",
     "start_time": "2022-04-07T19:05:09.915059Z"
    }
   },
   "source": [
    "### Prob (F-statistic)"
   ]
  },
  {
   "cell_type": "markdown",
   "id": "333c40e0",
   "metadata": {},
   "source": [
    "The Prob (F-statistic) or p-value for the f-statistic informs us of the **likelihood that we would observe the values of our data** or values at least as extreme as the results actually observed **by random chance if there were no relationship between the independent variable of our model and the dependent variable**, in this case a **student's score on a project and the hours spent on the project**.\n",
    "\n",
    "Here we have a p-value of 0.002, and quite a relatively large f-statistic value:"
   ]
  },
  {
   "cell_type": "code",
   "execution_count": 14,
   "id": "a94cc669",
   "metadata": {},
   "outputs": [],
   "source": [
    "# p-value for the liklihood our model fits the data better than the mean\n"
   ]
  },
  {
   "cell_type": "code",
   "execution_count": 15,
   "id": "a71eada6",
   "metadata": {},
   "outputs": [],
   "source": [
    "# f-statistic to compare p-value\n"
   ]
  },
  {
   "cell_type": "markdown",
   "id": "22c306a1",
   "metadata": {},
   "source": [
    "which suggests to us that **we can reject the null hypothesis**, and assume the model fits the data better than the intercept-only model."
   ]
  },
  {
   "cell_type": "markdown",
   "id": "cad70e74",
   "metadata": {},
   "source": [
    "Compare the p-value for the F-test to our **significance level of 0.05**. If the p-value is less than the significance level, our sample data provides sufficient evidence to conclude that our regression model fits the data better than the model with no independent variables."
   ]
  },
  {
   "cell_type": "markdown",
   "id": "3bdc69dd",
   "metadata": {},
   "source": [
    "We can say that **there is a linear relationship between the hours a student spends on a project and thescore their project is graded** with **95% confidence**."
   ]
  },
  {
   "cell_type": "markdown",
   "id": "cc9fe744",
   "metadata": {
    "ExecuteTime": {
     "end_time": "2022-04-08T15:41:12.378672Z",
     "start_time": "2022-04-08T15:41:12.363713Z"
    }
   },
   "source": [
    "### Standard Error"
   ]
  },
  {
   "cell_type": "markdown",
   "id": "037adf75",
   "metadata": {},
   "source": [
    "The standard error can be thought of as a measure of the precision with which the regression coefficient is measured. The standard error of the coefficient is always positive.The smaller the standard error, the more precise the estimate."
   ]
  },
  {
   "cell_type": "markdown",
   "id": "f0cecf9f",
   "metadata": {},
   "source": [
    "Here we can see that the standard error of the `hours` coefficient is `0.227` points, while the coefficient itself is `1.6371` points.\n",
    "\n",
    "We can interpret this as saying our model predicts that every additional hour of project prep leads to an increase of score by `1.6371` points, where each prediction is expected to have an error of +/- `0.227` points."
   ]
  },
  {
   "cell_type": "markdown",
   "id": "2c540926",
   "metadata": {
    "ExecuteTime": {
     "end_time": "2022-04-07T18:42:47.293526Z",
     "start_time": "2022-04-07T18:42:47.276570Z"
    }
   },
   "source": [
    "If we divide the coefficient by the std error, we calculate the t-value."
   ]
  },
  {
   "cell_type": "code",
   "execution_count": 16,
   "id": "cf742be5",
   "metadata": {
    "scrolled": true
   },
   "outputs": [],
   "source": [
    "# return the standard error for both coefficients in the equation\n"
   ]
  },
  {
   "cell_type": "markdown",
   "id": "1e7bfa02",
   "metadata": {
    "ExecuteTime": {
     "end_time": "2022-04-07T19:05:10.008809Z",
     "start_time": "2022-04-07T19:05:09.993849Z"
    }
   },
   "source": [
    "### T - test"
   ]
  },
  {
   "cell_type": "markdown",
   "id": "25b9cde7",
   "metadata": {},
   "source": [
    "To infer if a given feature is significant or relevant to the target variable, we **perform a t-test**. Here instead of **considering all of the features individually**, we perform a t-test on the dependent variable and the independent variable. "
   ]
  },
  {
   "cell_type": "markdown",
   "id": "1aa13edf",
   "metadata": {
    "ExecuteTime": {
     "end_time": "2022-04-07T18:05:05.456364Z",
     "start_time": "2022-04-07T18:05:05.443399Z"
    }
   },
   "source": [
    "**_Null Hypothesis_** $H_{0}$ : If the independent variable's t value is equal to 0, then the intercept-only model **fits the data as well** as our model.\n",
    "\n",
    "**_Alternative Hypothesis_** $H_{1}$ : If the indendent variable's t value is not equal to 0, then the model **fits the data better** than the intercept-only model."
   ]
  },
  {
   "cell_type": "code",
   "execution_count": 17,
   "id": "fae38575",
   "metadata": {},
   "outputs": [],
   "source": [
    "# display t-value for hours variable\n"
   ]
  },
  {
   "cell_type": "markdown",
   "id": "108e6194",
   "metadata": {},
   "source": [
    "The farther the t-value is away from `0`, the greater the chances that we reject the null hypothesis and accept the alternate hypothesis for that feature. \n",
    "\n",
    "With a t-value of `7.196`, we can say that we are more likely to accept the alternate hypothesis that the model fits the data better than the intercept-only model."
   ]
  },
  {
   "cell_type": "markdown",
   "id": "58cf02f3",
   "metadata": {
    "ExecuteTime": {
     "end_time": "2022-04-07T19:05:10.023769Z",
     "start_time": "2022-04-07T19:05:10.009807Z"
    }
   },
   "source": [
    "### P>|t| or p-value "
   ]
  },
  {
   "cell_type": "markdown",
   "id": "82d74679",
   "metadata": {},
   "source": [
    "p-values for the t-test\n",
    "\n",
    "Again we can compare the p-values, or **likelihood that we would observe our data by random chance if our independent variable had no statistically significant relationship to the `score` variable**. \n",
    "\n",
    "When we compare the p-value of the independent variable with a significance threshold of 0.05:"
   ]
  },
  {
   "cell_type": "markdown",
   "id": "08e54954",
   "metadata": {},
   "source": [
    " - 𝑝 < $0.05$ : Reject that there is no relationship between the hours spent on a project and the score received on a project.\n",
    " \n",
    "\n",
    " - 𝑝 >= $0.05$ : Accept the null hypothesis. There is no relationship between the hours spent on a project and the score received on a project."
   ]
  },
  {
   "cell_type": "code",
   "execution_count": 18,
   "id": "28464e76",
   "metadata": {},
   "outputs": [],
   "source": [
    "# check t-statistic probability score for constant\n"
   ]
  },
  {
   "cell_type": "code",
   "execution_count": 19,
   "id": "0b7ec86a",
   "metadata": {
    "scrolled": true
   },
   "outputs": [],
   "source": [
    "# check t-statistic probability score for hours variable\n"
   ]
  },
  {
   "cell_type": "markdown",
   "id": "0d410297",
   "metadata": {},
   "source": [
    "Here with a p-value of about `0.002` we would consider **the hours spent on a project sharing a statistically significant relationship with the score a project was graded** with **95% confidence**."
   ]
  },
  {
   "cell_type": "code",
   "execution_count": 20,
   "id": "4deb31c9",
   "metadata": {
    "scrolled": true
   },
   "outputs": [],
   "source": [
    "# Visualize linear regression model\n"
   ]
  },
  {
   "cell_type": "markdown",
   "id": "ef64fba3",
   "metadata": {},
   "source": [
    "### Mean Absolute Error"
   ]
  },
  {
   "cell_type": "markdown",
   "id": "afb2606b",
   "metadata": {},
   "source": [
    "Mean Absolute Error MAE: Represents average error\n",
    "\n",
    "$$MAE = \\frac{1}{n}\\sum_{i=1}^{n}|y_{i} - \\hat y_{i}|$$"
   ]
  },
  {
   "cell_type": "markdown",
   "id": "d73b3496",
   "metadata": {},
   "source": [
    "The MAE informs us that **on average, our model has an error of** `1.98` points when **predicting the score of a project**."
   ]
  },
  {
   "cell_type": "code",
   "execution_count": 21,
   "id": "7a84435a",
   "metadata": {},
   "outputs": [],
   "source": [
    "# return residuals from model\n"
   ]
  },
  {
   "cell_type": "code",
   "execution_count": 22,
   "id": "37230844",
   "metadata": {},
   "outputs": [],
   "source": [
    "# return predicted values from model\n"
   ]
  },
  {
   "cell_type": "code",
   "execution_count": 23,
   "id": "1a5fa6bf",
   "metadata": {},
   "outputs": [],
   "source": [
    "# mean absolute error\n"
   ]
  },
  {
   "cell_type": "markdown",
   "id": "7d6d8ab7",
   "metadata": {},
   "source": [
    "### Mean Squared Error"
   ]
  },
  {
   "cell_type": "markdown",
   "id": "ff3a3e5a",
   "metadata": {},
   "source": [
    "The Mean Squared Error, or MSE tells us how close a regression line is to a set of true points. This is achieved by squaring the errors. It contrasts to MAE because it gives more weight to larger distances between the points to the regression line.\n",
    "\n",
    "**MSE is more useful if we are concerned about large errors whose consequences are much larger than equivalent smaller ones**.\n",
    "\n",
    "$$MSE = \\frac{1}{n}\\sum_{i=1}^{n}(y_{i} - \\hat y_{i})^2$$"
   ]
  },
  {
   "cell_type": "code",
   "execution_count": 24,
   "id": "c0beace1",
   "metadata": {},
   "outputs": [],
   "source": [
    "# mean squared error\n"
   ]
  },
  {
   "cell_type": "markdown",
   "id": "57f16298",
   "metadata": {},
   "source": [
    "Our MSE is useful if we are comparing the predictive performance of two or more models. It's values are less interpretable than MAE and RMSE because they are not in the same units as our dependent variable.\n",
    "\n",
    "Here we are effectively saying our model has an error of 6.41 points squared..."
   ]
  },
  {
   "cell_type": "markdown",
   "id": "9f8752dd",
   "metadata": {},
   "source": [
    "### Root Mean Squared Error"
   ]
  },
  {
   "cell_type": "markdown",
   "id": "3ae16a24",
   "metadata": {},
   "source": [
    "Root Mean Square Error: Interpretable MSE in units of y. \n",
    "\n",
    "RMSE is more sensitive to outliers, and penalizes large errors more than MAE because errors are squared."
   ]
  },
  {
   "cell_type": "markdown",
   "id": "b100d304",
   "metadata": {},
   "source": [
    "$$RMSE = \\sqrt\\frac{1}{n}\\sum_{i=1}^{n}(y_{i} - \\hat y_{i})^2$$"
   ]
  },
  {
   "cell_type": "code",
   "execution_count": 25,
   "id": "27e23917",
   "metadata": {},
   "outputs": [],
   "source": [
    "# root mean squared error\n"
   ]
  },
  {
   "cell_type": "markdown",
   "id": "1e5c2e34",
   "metadata": {},
   "source": [
    "Here our RMSE informs us that the expected error between the true value and the value our model predicts is 2.53 points when predicting the score of a project in our training data. **This is larger than our MAE of 1.90. When MAE < RMSE, it can be indicative that there are outliers present in our data**."
   ]
  },
  {
   "cell_type": "markdown",
   "id": "9efc3642",
   "metadata": {},
   "source": [
    "## Assumptions of Linear Regression"
   ]
  },
  {
   "cell_type": "code",
   "execution_count": 28,
   "id": "6cb5f8e5",
   "metadata": {},
   "outputs": [],
   "source": [
    "# https://www.kaggle.com/code/mojoflat/step-by-step-assumptions-linear-regression/edit"
   ]
  },
  {
   "cell_type": "markdown",
   "id": "c0487432",
   "metadata": {},
   "source": [
    "### Linearity"
   ]
  },
  {
   "cell_type": "markdown",
   "id": "ba0e2c92",
   "metadata": {},
   "source": [
    "Pairplots are useful tools to check for linearity between the dependent and independent variables. \n",
    "\n",
    "- Ask yourself \"What pattern do I see?\". If a straight line appears to fit the data well, this is a great sign* that there is a linear relationship between the independent and dependent variables."
   ]
  },
  {
   "cell_type": "code",
   "execution_count": 26,
   "id": "833a4681",
   "metadata": {
    "scrolled": true
   },
   "outputs": [],
   "source": [
    "# view scatter plots and distribution plots for variables\n"
   ]
  },
  {
   "cell_type": "markdown",
   "id": "eb72cc28",
   "metadata": {},
   "source": [
    "### Homoscedasticity\n",
    "\n",
    "Simply put we want to find homoscedasticity. This means that the residuals have equal or almost equal variance over the entire regression model. \n",
    "\n",
    "If there are any patterns when we plot residuals by predicted values, such as residuals being higher when the score is higher, etc. it is a sign of heteroscedasticity.\n",
    "\n",
    "By plotting the error terms with predicted terms we can check that there should not be any pattern in the error terms.¶"
   ]
  },
  {
   "cell_type": "code",
   "execution_count": 27,
   "id": "b362cf78",
   "metadata": {},
   "outputs": [],
   "source": [
    "# plot the residuals against predicted values to \n",
    "# check for homoscedasticity\n"
   ]
  },
  {
   "cell_type": "markdown",
   "id": "c58a0835",
   "metadata": {},
   "source": [
    "I can not discern a pattern here, but again we initiated this analysis with an insufficient number of observations.\n",
    "\n",
    "Here it feels safe to assume that there is not a pattern in the error terms."
   ]
  },
  {
   "cell_type": "markdown",
   "id": "c8bc8e48",
   "metadata": {},
   "source": [
    "### Mean of Residuals = 0: "
   ]
  },
  {
   "cell_type": "markdown",
   "id": "e53c8726",
   "metadata": {},
   "source": [
    "When our residuals have a mean of zero, it is another indicator that they are normally distributed and thus do not form patterns or contain much information hidden from the model."
   ]
  },
  {
   "cell_type": "code",
   "execution_count": 28,
   "id": "a57a63be",
   "metadata": {},
   "outputs": [],
   "source": [
    "# calculate and print the mean of residuals\n"
   ]
  },
  {
   "cell_type": "markdown",
   "id": "2b49e7ce",
   "metadata": {},
   "source": [
    "### Normality\n",
    "\n",
    "We want to check that the residuals are normally distributed\n",
    "\n",
    "the central limit theorem says that as the sample size increases the distribution tends to be normal. A skew is also visible from the plot. "
   ]
  },
  {
   "cell_type": "code",
   "execution_count": 29,
   "id": "14dc9442",
   "metadata": {},
   "outputs": [],
   "source": [
    "# check for normality among the residuals\n"
   ]
  },
  {
   "cell_type": "markdown",
   "id": "8f225a32",
   "metadata": {},
   "source": [
    "### Autocorrelation"
   ]
  },
  {
   "cell_type": "markdown",
   "id": "bd97f2e8",
   "metadata": {},
   "source": [
    "When checking for autocorrelation among the residuals, we want to make sure our observations are independent of one another.\n",
    "\n",
    "There should not be any kind of pattern found among our residuals, they should be independent of one another."
   ]
  },
  {
   "cell_type": "code",
   "execution_count": 30,
   "id": "70500716",
   "metadata": {},
   "outputs": [],
   "source": [
    "# check for autocorrelation using lineplot\n"
   ]
  },
  {
   "cell_type": "code",
   "execution_count": 31,
   "id": "1ddebb3d",
   "metadata": {},
   "outputs": [],
   "source": [
    "# autocorrelation\n"
   ]
  },
  {
   "cell_type": "markdown",
   "id": "3d893faa",
   "metadata": {},
   "source": [
    "### No perfect multicollinearity"
   ]
  },
  {
   "cell_type": "markdown",
   "id": "d2e9f36a",
   "metadata": {},
   "source": [
    "While we want our `hours` variable to have a statistically significant relationship to `score`, a perfect `1.0` correlation would be somewhat suspicious. Here the Pearson Correlation Coefficient for `hours` is 0.96. \n",
    "\n",
    "With such a small sample size it can be expected to have a high correlation coefficient."
   ]
  },
  {
   "cell_type": "code",
   "execution_count": 32,
   "id": "1395cc65",
   "metadata": {
    "scrolled": true
   },
   "outputs": [],
   "source": [
    "# heatmap of correlation between hours and score\n"
   ]
  },
  {
   "cell_type": "code",
   "execution_count": null,
   "id": "8690963a",
   "metadata": {},
   "outputs": [],
   "source": [
    "# Fini"
   ]
  },
  {
   "cell_type": "markdown",
   "id": "ab0e3c50",
   "metadata": {},
   "source": [
    "##### Anscombe's Quartet"
   ]
  },
  {
   "cell_type": "code",
   "execution_count": 36,
   "id": "4990de59",
   "metadata": {},
   "outputs": [
    {
     "data": {
      "image/png": "[encoded data removed]",
      "text/plain": [
       "<Figure size 432x432 with 4 Axes>"
      ]
     },
     "metadata": {
      "needs_background": "light"
     },
     "output_type": "display_data"
    }
   ],
   "source": [
    "# https://matplotlib.org/stable/gallery/specialty_plots/anscombe.html\n",
    "\n",
    "x = [10, 8, 13, 9, 11, 14, 6, 4, 12, 7, 5]\n",
    "y1 = [8.04, 6.95, 7.58, 8.81, 8.33, 9.96, 7.24, 4.26, 10.84, 4.82, 5.68]\n",
    "y2 = [9.14, 8.14, 8.74, 8.77, 9.26, 8.10, 6.13, 3.10, 9.13, 7.26, 4.74]\n",
    "y3 = [7.46, 6.77, 12.74, 7.11, 7.81, 8.84, 6.08, 5.39, 8.15, 6.42, 5.73]\n",
    "x4 = [8, 8, 8, 8, 8, 8, 8, 19, 8, 8, 8]\n",
    "y4 = [6.58, 5.76, 7.71, 8.84, 8.47, 7.04, 5.25, 12.50, 5.56, 7.91, 6.89]\n",
    "\n",
    "datasets = {\n",
    "    'I': (x, y1),\n",
    "    'II': (x, y2),\n",
    "    'III': (x, y3),\n",
    "    'IV': (x4, y4)\n",
    "}\n",
    "\n",
    "fig, axs = plt.subplots(2, 2, sharex=True, sharey=True, figsize=(6, 6),\n",
    "                        gridspec_kw={'wspace': 0.08, 'hspace': 0.08})\n",
    "axs[0, 0].set(xlim=(0, 20), ylim=(2, 14))\n",
    "axs[0, 0].set(xticks=(0, 10, 20), yticks=(4, 8, 12))\n",
    "\n",
    "for ax, (label, (x, y)) in zip(axs.flat, datasets.items()):\n",
    "    ax.text(0.1, 0.9, label, fontsize=20, transform=ax.transAxes, va='top')\n",
    "    ax.tick_params(direction='in', top=True, right=True)\n",
    "    ax.plot(x, y, 'o')\n",
    "\n",
    "    # linear regression\n",
    "    p1, p0 = np.polyfit(x, y, deg=1)  # slope, intercept\n",
    "    ax.axline(xy1=(0, p0), slope=p1, color='r', lw=2)\n",
    "\n",
    "    # add text box for the statistics\n",
    "    stats = (f'$\\\\mu$ = {np.mean(y):.2f}\\n'\n",
    "             f'$\\\\sigma$ = {np.std(y):.2f}\\n'\n",
    "             f'$r$ = {np.corrcoef(x, y)[0][1]:.2f}')\n",
    "    #bbox = dict(boxstyle='round', fc='blanchedalmond', ec='orange', alpha=0.5)\n",
    "    ax.text(0.95, 0.07, stats, fontsize=9, \n",
    "            transform=ax.transAxes, horizontalalignment='right')\n",
    "\n",
    "plt.show()"
   ]
  },
  {
   "cell_type": "code",
   "execution_count": null,
   "id": "4102108a",
   "metadata": {},
   "outputs": [],
   "source": []
  }
 ],
 "metadata": {
  "kernelspec": {
   "display_name": "Python 3 (ipykernel)",
   "language": "python",
   "name": "python3"
  },
  "language_info": {
   "codemirror_mode": {
    "name": "ipython",
    "version": 3
   },
   "file_extension": ".py",
   "mimetype": "text/x-python",
   "name": "python",
   "nbconvert_exporter": "python",
   "pygments_lexer": "ipython3",
   "version": "3.9.7"
  },
  "toc": {
   "base_numbering": 1,
   "nav_menu": {},
   "number_sections": true,
   "sideBar": true,
   "skip_h1_title": false,
   "title_cell": "Table of Contents",
   "title_sidebar": "Contents",
   "toc_cell": false,
   "toc_position": {},
   "toc_section_display": true,
   "toc_window_display": true
  }
 },
 "nbformat": 4,
 "nbformat_minor": 5
}
