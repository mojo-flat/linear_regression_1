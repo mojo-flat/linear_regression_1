{
 "cells": [
  {
   "cell_type": "markdown",
   "id": "7f79507b",
   "metadata": {},
   "source": [
    "# Linear Regression GP 1"
   ]
  },
  {
   "cell_type": "markdown",
   "id": "d7438ca3",
   "metadata": {},
   "source": [
    "***"
   ]
  },
  {
   "cell_type": "markdown",
   "id": "1e7d939c",
   "metadata": {},
   "source": [
    "### GP 1 Goals\n",
    "\n",
    "Performing simple linear regression and understanding evaluation metrics.\n",
    "\n",
    "- Run a simple linear regression model in statsmodels or scikit-learn.\n",
    "- Discuss the real-world implications of the model results."
   ]
  },
  {
   "cell_type": "markdown",
   "id": "3b4402bc",
   "metadata": {},
   "source": [
    "## Related Lessons\n",
    "\n",
    " - [Simple Linear Regression Lab](https://github.com/learn-co-curriculum/dsc-simple-linear-regression-lab/tree/solution) \n",
    "\n",
    "  - [Interpreting Significance and P-values](https://github.com/learn-co-curriculum/dsc-significance-p-value)\n",
    "\n",
    "  - [Coefficient of Determination Lab](https://github.com/learn-co-curriculum/dsc-coefficient-of-determination-lab/tree/solution)\n",
    "\n",
    " - [OLS Statsmodels Lab](https://github.com/learn-co-curriculum/dsc-ols-statsmodels-lab/tree/solution)\n",
    "\n",
    " - [Complete Regression Lab](https://github.com/learn-co-curriculum/dsc-complete-regression-lab/tree/solution)\n",
    " \n",
    "    - Topics \n",
    "\n",
    "  - How to interpret the results from a simple linear regression model and discuss their real-world implications.\n",
    "- What multiple linear regression is and why it is useful for solving real-world problems.\n",
    "- How to run a multiple linear regression model in Python using statsmodels."
   ]
  },
  {
   "cell_type": "markdown",
   "id": "7260a0dd",
   "metadata": {},
   "source": [
    "### First Goal"
   ]
  },
  {
   "cell_type": "markdown",
   "id": "da4fe33b",
   "metadata": {},
   "source": [
    "- To understand how well our model is able to **predict** future conditions, trends, or **values**."
   ]
  },
  {
   "cell_type": "markdown",
   "id": "ed5bbb16",
   "metadata": {
    "ExecuteTime": {
     "end_time": "2022-04-07T13:14:18.694439Z",
     "start_time": "2022-04-07T13:14:18.680477Z"
    }
   },
   "source": [
    "Question 1: Does our regression line fit the data well?"
   ]
  },
  {
   "cell_type": "markdown",
   "id": "9e434b68",
   "metadata": {},
   "source": [
    "We make predictions on train and test data and measure the error to understand how well our model will generalize when making new predictions."
   ]
  },
  {
   "cell_type": "markdown",
   "id": "681264f9",
   "metadata": {},
   "source": [
    "###### Scope"
   ]
  },
  {
   "cell_type": "markdown",
   "id": "fc591127",
   "metadata": {},
   "source": [
    "* We analyze the performance between the train and test predictions using various metrics:\n",
    "    - MAE\n",
    "    - MSE\n",
    "    - RMSE\n",
    "    - $R^2$\n",
    "    - Adjusted $R^2$"
   ]
  },
  {
   "cell_type": "markdown",
   "id": "32674afc",
   "metadata": {},
   "source": [
    "### Second Goal"
   ]
  },
  {
   "cell_type": "markdown",
   "id": "3bb26b4e",
   "metadata": {
    "ExecuteTime": {
     "end_time": "2022-04-05T19:18:51.377159Z",
     "start_time": "2022-04-05T19:18:51.363196Z"
    }
   },
   "source": [
    "* To determine and **measure** the **relationships** between the dependent and independent variables."
   ]
  },
  {
   "cell_type": "markdown",
   "id": "2b699957",
   "metadata": {},
   "source": [
    "Question 2: Are the coefficients statistically significant?"
   ]
  },
  {
   "cell_type": "markdown",
   "id": "9cef6549",
   "metadata": {},
   "source": [
    "### Third Goal"
   ]
  },
  {
   "cell_type": "markdown",
   "id": "13c8c754",
   "metadata": {},
   "source": [
    "* To **understand** how one variable **changes** when another changes"
   ]
  },
  {
   "cell_type": "markdown",
   "id": "b6fe6a43",
   "metadata": {},
   "source": [
    "Question 3: What is the economic impact of the estimated coefficients?"
   ]
  },
  {
   "cell_type": "markdown",
   "id": "551501af",
   "metadata": {
    "ExecuteTime": {
     "end_time": "2022-04-08T15:34:33.785486Z",
     "start_time": "2022-04-08T15:34:33.773519Z"
    }
   },
   "source": [
    "##### Scope"
   ]
  },
  {
   "cell_type": "markdown",
   "id": "3139fcc2",
   "metadata": {
    "ExecuteTime": {
     "end_time": "2022-04-05T19:26:36.138400Z",
     "start_time": "2022-04-05T19:26:36.133414Z"
    }
   },
   "source": [
    "* The coefficients and p-values are able to inform us of the influence that an independent variable has on the dependent variable.\n",
    "\n",
    "    - Coefficients\n",
    "    - $p-value$"
   ]
  },
  {
   "cell_type": "code",
   "execution_count": 1,
   "id": "066c3542",
   "metadata": {},
   "outputs": [],
   "source": [
    "# import libraries\n",
    "import pandas as pd\n",
    "import numpy as np\n",
    "\n",
    "import matplotlib.pyplot as plt\n",
    "import seaborn as sns\n",
    "\n",
    "import warnings\n",
    "warnings.filterwarnings('ignore')\n",
    "%matplotlib inline"
   ]
  },
  {
   "cell_type": "code",
   "execution_count": 2,
   "id": "fea8fcd9",
   "metadata": {},
   "outputs": [],
   "source": [
    "# This is an example sample size. When conducting regression modeling \n",
    "# it is generally agreed that sample size be a minimum of 20-30 instances.\n",
    "\n",
    "# Why?\n",
    "\n",
    "# hours spent on project\n",
    "x = [34, 35, 39, 42, 43, 47]\n",
    "\n",
    "# project score\n",
    "y = [78, 75, 86, 91, 88, 98]"
   ]
  },
  {
   "cell_type": "code",
   "execution_count": 3,
   "id": "e7e330f1",
   "metadata": {},
   "outputs": [],
   "source": [
    "# What are the independent and dependent variables\n"
   ]
  },
  {
   "cell_type": "code",
   "execution_count": 4,
   "id": "73574a1a",
   "metadata": {},
   "outputs": [
    {
     "data": {
      "text/html": [
       "<div>\n",
       "<style scoped>\n",
       "    .dataframe tbody tr th:only-of-type {\n",
       "        vertical-align: middle;\n",
       "    }\n",
       "\n",
       "    .dataframe tbody tr th {\n",
       "        vertical-align: top;\n",
       "    }\n",
       "\n",
       "    .dataframe thead th {\n",
       "        text-align: right;\n",
       "    }\n",
       "</style>\n",
       "<table border=\"1\" class=\"dataframe\">\n",
       "  <thead>\n",
       "    <tr style=\"text-align: right;\">\n",
       "      <th></th>\n",
       "      <th>hours</th>\n",
       "      <th>score</th>\n",
       "    </tr>\n",
       "  </thead>\n",
       "  <tbody>\n",
       "    <tr>\n",
       "      <th>0</th>\n",
       "      <td>34</td>\n",
       "      <td>78</td>\n",
       "    </tr>\n",
       "    <tr>\n",
       "      <th>1</th>\n",
       "      <td>35</td>\n",
       "      <td>75</td>\n",
       "    </tr>\n",
       "    <tr>\n",
       "      <th>2</th>\n",
       "      <td>39</td>\n",
       "      <td>86</td>\n",
       "    </tr>\n",
       "    <tr>\n",
       "      <th>3</th>\n",
       "      <td>42</td>\n",
       "      <td>91</td>\n",
       "    </tr>\n",
       "    <tr>\n",
       "      <th>4</th>\n",
       "      <td>43</td>\n",
       "      <td>88</td>\n",
       "    </tr>\n",
       "    <tr>\n",
       "      <th>5</th>\n",
       "      <td>47</td>\n",
       "      <td>98</td>\n",
       "    </tr>\n",
       "  </tbody>\n",
       "</table>\n",
       "</div>"
      ],
      "text/plain": [
       "   hours  score\n",
       "0     34     78\n",
       "1     35     75\n",
       "2     39     86\n",
       "3     42     91\n",
       "4     43     88\n",
       "5     47     98"
      ]
     },
     "execution_count": 4,
     "metadata": {},
     "output_type": "execute_result"
    }
   ],
   "source": [
    "# create pandas DataFrame\n",
    "score_df = pd.DataFrame(list(zip(x, y)), columns =['hours', 'score'])\n",
    "score_df"
   ]
  },
  {
   "cell_type": "code",
   "execution_count": 5,
   "id": "413724e4",
   "metadata": {},
   "outputs": [
    {
     "data": {
      "text/plain": [
       "Text(0, 0.5, 'Score')"
      ]
     },
     "execution_count": 5,
     "metadata": {},
     "output_type": "execute_result"
    },
    {
     "data": {
      "image/png": "[encoded data removed]",
      "text/plain": [
       "<Figure size 432x288 with 1 Axes>"
      ]
     },
     "metadata": {
      "needs_background": "light"
     },
     "output_type": "display_data"
    }
   ],
   "source": [
    "# plot our data\n",
    "sns.scatterplot('hours','score', data=score_df)\n",
    "plt.title(\"Student Project Hours vs. Project Score\")\n",
    "plt.xlabel(\"Hours\")\n",
    "plt.ylabel(\"Score\")"
   ]
  },
  {
   "cell_type": "markdown",
   "id": "01c4112c",
   "metadata": {},
   "source": [
    "This data appears linear in nature. This is great news as it a sign that our variables share a linear relationship. \n",
    "\n",
    "At this point, it is important to keep the assumptions of linear regression in mind as model our data. If these assumption are not met, we can not be confident in the accuracy of our model. The assumptions we will explore in this notebook are:\n",
    "\n",
    "- Linearity: there is a linear relationship between the independent and dependent variables\n",
    "- Homoscedasticity: the variance for the residual is the same for any value of x\n",
    "- Independence: observations are independent of one another\n",
    "- Normality: residuals are normally distributed\n",
    "\n",
    "Now let's fit a linear regression model to this data."
   ]
  },
  {
   "cell_type": "markdown",
   "id": "53e89a5d",
   "metadata": {},
   "source": [
    "# Ordinary least Squares\n",
    "\n",
    "Recall the goal of OLS, minimize the sum of the squares of the differences."
   ]
  },
  {
   "cell_type": "code",
   "execution_count": 6,
   "id": "44fab893",
   "metadata": {},
   "outputs": [],
   "source": [
    "# https://www.statsmodels.org/stable/regression.html\n",
    "# import statsmodels library from statsmodels api\n",
    "import statsmodels.api as sm\n",
    "\n",
    "# create predictors\n",
    "predictors = score_df['hours']\n",
    "\n",
    "# add a constant that represents beta_nought\n",
    "predictors_int = sm.add_constant(predictors)\n",
    "\n",
    "# fit model to data usingthe existing x and y as arguments.\n",
    "model = sm.OLS(score_df['score'],predictors_int).fit()"
   ]
  },
  {
   "cell_type": "markdown",
   "id": "65558efa",
   "metadata": {},
   "source": [
    "# Interpreting Linear regression results"
   ]
  },
  {
   "cell_type": "markdown",
   "id": "51481196",
   "metadata": {},
   "source": [
    "$$ \\hat y = \\hat\\beta_0 + \\hat\\beta_1 x$$\n",
    "\n",
    "where $\\hat\\beta_0 $ is the constant of the equation, and $ \\hat\\beta_1 $ is the slope."
   ]
  },
  {
   "cell_type": "code",
   "execution_count": 7,
   "id": "3ea5a5ac",
   "metadata": {},
   "outputs": [
    {
     "data": {
      "text/plain": [
       "const    20.516129\n",
       "hours     1.637097\n",
       "dtype: float64"
      ]
     },
     "execution_count": 7,
     "metadata": {},
     "output_type": "execute_result"
    }
   ],
   "source": [
    "# display model coefficients\n",
    "model.params"
   ]
  },
  {
   "cell_type": "markdown",
   "id": "904f21c9",
   "metadata": {},
   "source": [
    "### Coefficients"
   ]
  },
  {
   "cell_type": "markdown",
   "id": "06e56b8f",
   "metadata": {},
   "source": [
    "$$ \\hat y = 20.516 + 1.63 x$$"
   ]
  },
  {
   "cell_type": "markdown",
   "id": "9578c993",
   "metadata": {},
   "source": [
    "With the coefficients we can acheive the goals of linear regression:\n",
    "    \n",
    "    - To determine and measure the relationships between the dependent and independent variables\n",
    "    \n",
    "    - To understand how one variable changes when another changes"
   ]
  },
  {
   "cell_type": "markdown",
   "id": "75d2f916",
   "metadata": {},
   "source": [
    "***Coefficients***: The coefficient of the feature describe the mathematical relationship between each independent variable and the dependent variable, which in this case is the project score. \n",
    "\n",
    "The coefficient value helps us understand the marginal effect of the features on the dependent variable. \n",
    "\n",
    "**Given a one-unit change in hours, how much is the score changed**?"
   ]
  },
  {
   "cell_type": "code",
   "execution_count": 8,
   "id": "e441247e",
   "metadata": {},
   "outputs": [],
   "source": [
    "# Answer here\n"
   ]
  },
  {
   "cell_type": "markdown",
   "id": "ac6d75f7",
   "metadata": {},
   "source": [
    "**If a student spent `0` hours on their project, what score does our model predict the student will have?**"
   ]
  },
  {
   "cell_type": "code",
   "execution_count": null,
   "id": "cb39fe9e",
   "metadata": {},
   "outputs": [],
   "source": []
  },
  {
   "cell_type": "markdown",
   "id": "c97eb475",
   "metadata": {},
   "source": [
    "They also **inform us if there is a positive or negative correlation between the features and target**."
   ]
  },
  {
   "cell_type": "markdown",
   "id": "17269e83",
   "metadata": {},
   "source": [
    "$$ \\hat y = 20.516 + 1.63 x$$"
   ]
  },
  {
   "cell_type": "code",
   "execution_count": 9,
   "id": "b2c11c41",
   "metadata": {},
   "outputs": [
    {
     "data": {
      "text/plain": [
       "<AxesSubplot:xlabel='hours', ylabel='score'>"
      ]
     },
     "execution_count": 9,
     "metadata": {},
     "output_type": "execute_result"
    },
    {
     "data": {
      "image/png": "[encoded data removed]",
      "text/plain": [
       "<Figure size 432x288 with 1 Axes>"
      ]
     },
     "metadata": {
      "needs_background": "light"
     },
     "output_type": "display_data"
    }
   ],
   "source": [
    "sns.regplot('hours','score', data=score_df, ci=0)"
   ]
  },
  {
   "cell_type": "code",
   "execution_count": 10,
   "id": "9d1b949e",
   "metadata": {
    "scrolled": false
   },
   "outputs": [
    {
     "data": {
      "text/plain": [
       "<AxesSubplot:xlabel='hours', ylabel='score'>"
      ]
     },
     "execution_count": 10,
     "metadata": {},
     "output_type": "execute_result"
    },
    {
     "data": {
      "image/png": "[encoded data removed]",
      "text/plain": [
       "<Figure size 432x288 with 1 Axes>"
      ]
     },
     "metadata": {
      "needs_background": "light"
     },
     "output_type": "display_data"
    }
   ],
   "source": [
    "# https://seaborn.pydata.org/generated/seaborn.regplot.html\n",
    "# Visualize linear regression model\n",
    "sns.regplot('hours','score', data=score_df)"
   ]
  },
  {
   "cell_type": "markdown",
   "id": "38c1c9e0",
   "metadata": {},
   "source": [
    "A 95 percent confidence interval includes 95 percent of the bootstrapped sample means.\n",
    "\n",
    "Here any value outside of the 95 percent confidence interval is considered an outlier that occurs less than 5% of the time.\n",
    "\n",
    "The p-value for any value outside this confidence interval is less than 0.05 and thus statistically significant."
   ]
  },
  {
   "cell_type": "markdown",
   "id": "c6bd330d",
   "metadata": {},
   "source": [
    "### Model.summary()"
   ]
  },
  {
   "cell_type": "markdown",
   "id": "ab4b3671",
   "metadata": {},
   "source": [
    "We can call the `.summary()` method which will display several results from our model:"
   ]
  },
  {
   "cell_type": "markdown",
   "id": "b8f890dc",
   "metadata": {},
   "source": [
    "Notice that statsmodels informs us there are not enough observations to be confident in the relationship described by our model."
   ]
  },
  {
   "cell_type": "code",
   "execution_count": 11,
   "id": "4a323552",
   "metadata": {},
   "outputs": [
    {
     "name": "stderr",
     "output_type": "stream",
     "text": [
      "/Users/mojo_flat/opt/anaconda3/lib/python3.9/site-packages/statsmodels/stats/stattools.py:74: ValueWarning: omni_normtest is not valid with less than 8 observations; 6 samples were given.\n",
      "  warn(\"omni_normtest is not valid with less than 8 observations; %i \"\n"
     ]
    },
    {
     "data": {
      "text/html": [
       "<table class=\"simpletable\">\n",
       "<caption>OLS Regression Results</caption>\n",
       "<tr>\n",
       "  <th>Dep. Variable:</th>          <td>score</td>      <th>  R-squared:         </th> <td>   0.928</td>\n",
       "</tr>\n",
       "<tr>\n",
       "  <th>Model:</th>                   <td>OLS</td>       <th>  Adj. R-squared:    </th> <td>   0.910</td>\n",
       "</tr>\n",
       "<tr>\n",
       "  <th>Method:</th>             <td>Least Squares</td>  <th>  F-statistic:       </th> <td>   51.79</td>\n",
       "</tr>\n",
       "<tr>\n",
       "  <th>Date:</th>             <td>Sun, 05 Jun 2022</td> <th>  Prob (F-statistic):</th>  <td>0.00198</td>\n",
       "</tr>\n",
       "<tr>\n",
       "  <th>Time:</th>                 <td>20:10:26</td>     <th>  Log-Likelihood:    </th> <td> -12.874</td>\n",
       "</tr>\n",
       "<tr>\n",
       "  <th>No. Observations:</th>      <td>     6</td>      <th>  AIC:               </th> <td>   29.75</td>\n",
       "</tr>\n",
       "<tr>\n",
       "  <th>Df Residuals:</th>          <td>     4</td>      <th>  BIC:               </th> <td>   29.33</td>\n",
       "</tr>\n",
       "<tr>\n",
       "  <th>Df Model:</th>              <td>     1</td>      <th>                     </th>     <td> </td>   \n",
       "</tr>\n",
       "<tr>\n",
       "  <th>Covariance Type:</th>      <td>nonrobust</td>    <th>                     </th>     <td> </td>   \n",
       "</tr>\n",
       "</table>\n",
       "<table class=\"simpletable\">\n",
       "<tr>\n",
       "    <td></td>       <th>coef</th>     <th>std err</th>      <th>t</th>      <th>P>|t|</th>  <th>[0.025</th>    <th>0.975]</th>  \n",
       "</tr>\n",
       "<tr>\n",
       "  <th>const</th> <td>   20.5161</td> <td>    9.158</td> <td>    2.240</td> <td> 0.089</td> <td>   -4.911</td> <td>   45.944</td>\n",
       "</tr>\n",
       "<tr>\n",
       "  <th>hours</th> <td>    1.6371</td> <td>    0.227</td> <td>    7.196</td> <td> 0.002</td> <td>    1.005</td> <td>    2.269</td>\n",
       "</tr>\n",
       "</table>\n",
       "<table class=\"simpletable\">\n",
       "<tr>\n",
       "  <th>Omnibus:</th>       <td>   nan</td> <th>  Durbin-Watson:     </th> <td>   2.912</td>\n",
       "</tr>\n",
       "<tr>\n",
       "  <th>Prob(Omnibus):</th> <td>   nan</td> <th>  Jarque-Bera (JB):  </th> <td>   0.929</td>\n",
       "</tr>\n",
       "<tr>\n",
       "  <th>Skew:</th>          <td>-0.588</td> <th>  Prob(JB):          </th> <td>   0.628</td>\n",
       "</tr>\n",
       "<tr>\n",
       "  <th>Kurtosis:</th>      <td> 1.473</td> <th>  Cond. No.          </th> <td>    357.</td>\n",
       "</tr>\n",
       "</table><br/><br/>Notes:<br/>[1] Standard Errors assume that the covariance matrix of the errors is correctly specified."
      ],
      "text/plain": [
       "<class 'statsmodels.iolib.summary.Summary'>\n",
       "\"\"\"\n",
       "                            OLS Regression Results                            \n",
       "==============================================================================\n",
       "Dep. Variable:                  score   R-squared:                       0.928\n",
       "Model:                            OLS   Adj. R-squared:                  0.910\n",
       "Method:                 Least Squares   F-statistic:                     51.79\n",
       "Date:                Sun, 05 Jun 2022   Prob (F-statistic):            0.00198\n",
       "Time:                        20:10:26   Log-Likelihood:                -12.874\n",
       "No. Observations:                   6   AIC:                             29.75\n",
       "Df Residuals:                       4   BIC:                             29.33\n",
       "Df Model:                           1                                         \n",
       "Covariance Type:            nonrobust                                         \n",
       "==============================================================================\n",
       "                 coef    std err          t      P>|t|      [0.025      0.975]\n",
       "------------------------------------------------------------------------------\n",
       "const         20.5161      9.158      2.240      0.089      -4.911      45.944\n",
       "hours          1.6371      0.227      7.196      0.002       1.005       2.269\n",
       "==============================================================================\n",
       "Omnibus:                          nan   Durbin-Watson:                   2.912\n",
       "Prob(Omnibus):                    nan   Jarque-Bera (JB):                0.929\n",
       "Skew:                          -0.588   Prob(JB):                        0.628\n",
       "Kurtosis:                       1.473   Cond. No.                         357.\n",
       "==============================================================================\n",
       "\n",
       "Notes:\n",
       "[1] Standard Errors assume that the covariance matrix of the errors is correctly specified.\n",
       "\"\"\""
      ]
     },
     "execution_count": 11,
     "metadata": {},
     "output_type": "execute_result"
    }
   ],
   "source": [
    "# return evaluation metrics for model\n",
    "model.summary()"
   ]
  },
  {
   "cell_type": "markdown",
   "id": "52c6559b",
   "metadata": {},
   "source": [
    "### R squared\n",
    "\n",
    "The **percentage of variation explained by the relationship between the dependent variable and the independent variables**. Lies within values between 0 and 1.\n",
    "\n",
    "$$SS_{residual} = \\sum (y - \\hat{y})^2 $$\n",
    "\n",
    "is the squared difference between $y$ and $\\hat y$ (predicted y)\n",
    "\n",
    "$$SS_{total} = \\sum (y - \\bar{y})^2 $$\n",
    "\n",
    "is the squared difference between $y$ and $\\overline y$ (mean of y)\n",
    "\n",
    "So that\n",
    "\n",
    "$$R^2 = 1- \\dfrac{SS_{residual}}{SS_{total}}$$"
   ]
  },
  {
   "cell_type": "code",
   "execution_count": 12,
   "id": "4daf757a",
   "metadata": {},
   "outputs": [
    {
     "data": {
      "text/plain": [
       "0.9282978915119842"
      ]
     },
     "execution_count": 12,
     "metadata": {},
     "output_type": "execute_result"
    }
   ],
   "source": [
    "# percentage of variance in the y variable explained by the x variable\n",
    "model.rsquared"
   ]
  },
  {
   "cell_type": "markdown",
   "id": "15acf70c",
   "metadata": {},
   "source": [
    "An R-squared value of 0.928 can be described conceptually as: \n",
    "\n",
    "> ***92.8% of the variations in dependent variable $score$ are explained by the independent variables $hours$ in our model.***"
   ]
  },
  {
   "cell_type": "markdown",
   "id": "eacdcc7e",
   "metadata": {},
   "source": [
    "This means there is **92.8% less variation around the regression line than the mean**, or the relationship between the dependent variable and the independent variables explains 92.8% of the variation in the data.\n",
    "\n",
    "We can also say that 7.2% of the variation of the `score` variable is not explained by our model."
   ]
  },
  {
   "cell_type": "markdown",
   "id": "c426c167",
   "metadata": {},
   "source": [
    "##### Adjusted R-Squared\n",
    "\n",
    "***Adjusted $R^2$***: The Adjusted $R^2$ is **a key metric for evaluation of a multivariate linear regression model**, as **it accounts for the number of predictors in a model** when calculating the model's goodness-of-fit. It is a more accurate measure for assessing if our model explains changes in the dependent variable. \n",
    "\n",
    "$$R^2_{adj}= 1-(1-R^2)\\dfrac{n-1}{n-p-1}$$"
   ]
  },
  {
   "cell_type": "code",
   "execution_count": 13,
   "id": "aa228642",
   "metadata": {
    "ExecuteTime": {
     "end_time": "2022-04-08T15:41:12.362715Z",
     "start_time": "2022-04-08T15:41:12.348752Z"
    }
   },
   "outputs": [
    {
     "data": {
      "text/plain": [
       "0.9103723643899801"
      ]
     },
     "execution_count": 13,
     "metadata": {},
     "output_type": "execute_result"
    }
   ],
   "source": [
    "# display adjusted r-squared\n",
    "model.rsquared_adj"
   ]
  },
  {
   "cell_type": "markdown",
   "id": "be340eaf",
   "metadata": {
    "ExecuteTime": {
     "end_time": "2022-04-07T19:05:09.914062Z",
     "start_time": "2022-04-07T19:05:09.900100Z"
    }
   },
   "source": [
    "### F-statistic"
   ]
  },
  {
   "cell_type": "markdown",
   "id": "f04bfb43",
   "metadata": {},
   "source": [
    "R-squared measures the strength of the relationship between our model and the dependent variable. \n",
    "\n",
    "However, it is not a formal test for the relationship. The F-test of overall significance is the hypothesis test for this relationship. \n",
    "\n",
    "The F-test of overall significance informs us **whether our linear regression model provides a better fit to the data than a model that contains no independent variables, or the intercept-only model.** \n",
    "\n",
    "For the intercept-only model, all of the model’s predictions equal the mean of the dependent variable. \n",
    "\n",
    "If the overall F-test is statistically significant, our model’s predictions are an improvement over using the mean."
   ]
  },
  {
   "cell_type": "code",
   "execution_count": 14,
   "id": "ea154f2e",
   "metadata": {},
   "outputs": [
    {
     "data": {
      "text/plain": [
       "51.78636506440469"
      ]
     },
     "execution_count": 14,
     "metadata": {},
     "output_type": "execute_result"
    }
   ],
   "source": [
    "# f-statistic to compare p-value\n",
    "model.fvalue"
   ]
  },
  {
   "cell_type": "markdown",
   "id": "1f04cc3c",
   "metadata": {},
   "source": [
    "The F-test for overall significance has two hypotheses:\n",
    "\n",
    "**_Null Hypothesis_** $H_{0}$ : The intercept-only model fits the data as well as our model.\n",
    "\n",
    "**_Alternative Hypothesis_** $H_{1}$ : The model fits the data better than the intercept-only model."
   ]
  },
  {
   "cell_type": "markdown",
   "id": "7f7fe671",
   "metadata": {},
   "source": [
    "The null hypothesis should contain an equality (=, ≤ ,≥):\n",
    "  - Average NBA Player's Height = 2.0m (6ft7in)\n",
    "  - 𝐻0 : 𝜇 = 2.0\n",
    "\n",
    "The alternate hypothesis should not have an equality (≠,<,>):\n",
    "\n",
    " - Average NBA Player's Height ≠ 2.0m (6ft7in)\n",
    " - 𝐻1 : 𝜇 ≠ 2.0 "
   ]
  },
  {
   "cell_type": "markdown",
   "id": "ceca7018",
   "metadata": {
    "ExecuteTime": {
     "end_time": "2022-04-07T19:05:09.930020Z",
     "start_time": "2022-04-07T19:05:09.915059Z"
    }
   },
   "source": [
    "### Prob (F-statistic)"
   ]
  },
  {
   "cell_type": "markdown",
   "id": "b6d93764",
   "metadata": {},
   "source": [
    "The Prob (F-statistic) or p-value for the f-statistic informs us of the **likelihood that we would observe the values of our data** or values at least as extreme as the results actually observed **by random chance if there were no relationship between the independent variable of our model and the dependent variable**, in this case a **student's score on a project and the hours spent on the project**.\n",
    "\n",
    "Here we have a p-value of 0.002, and quite a relatively large f-statistic value:"
   ]
  },
  {
   "cell_type": "code",
   "execution_count": 15,
   "id": "3e02a78e",
   "metadata": {},
   "outputs": [
    {
     "data": {
      "text/plain": [
       "0.001975978673027219"
      ]
     },
     "execution_count": 15,
     "metadata": {},
     "output_type": "execute_result"
    }
   ],
   "source": [
    "# p-value for the liklihood our model fits the data better than the mean\n",
    "model.f_pvalue"
   ]
  },
  {
   "cell_type": "code",
   "execution_count": 16,
   "id": "fa9709a7",
   "metadata": {},
   "outputs": [
    {
     "data": {
      "text/plain": [
       "51.78636506440469"
      ]
     },
     "execution_count": 16,
     "metadata": {},
     "output_type": "execute_result"
    }
   ],
   "source": [
    "# f-statistic to compare p-value\n",
    "model.fvalue"
   ]
  },
  {
   "cell_type": "markdown",
   "id": "c58e17d5",
   "metadata": {},
   "source": [
    "which suggests to us that **we can reject the null hypothesis**, and assume the model fits the data better than the intercept-only model."
   ]
  },
  {
   "cell_type": "markdown",
   "id": "0c58d86d",
   "metadata": {},
   "source": [
    "Compare the p-value for the F-test to our **significance level of 0.05**. If the p-value is less than the significance level, our sample data provides sufficient evidence to conclude that our regression model fits the data better than the model with no independent variables."
   ]
  },
  {
   "cell_type": "markdown",
   "id": "99665656",
   "metadata": {},
   "source": [
    "We can say that **there is a linear relationship between the hours a student spends on a project and thescore their project is graded** with **95% confidence**."
   ]
  },
  {
   "cell_type": "markdown",
   "id": "d4f15b4d",
   "metadata": {
    "ExecuteTime": {
     "end_time": "2022-04-08T15:41:12.378672Z",
     "start_time": "2022-04-08T15:41:12.363713Z"
    }
   },
   "source": [
    "### Standard Error"
   ]
  },
  {
   "cell_type": "markdown",
   "id": "d6164478",
   "metadata": {},
   "source": [
    "The standard error can be thought of as a measure of the precision with which the regression coefficient is measured. The standard error of the coefficient is always positive.The smaller the standard error, the more precise the estimate."
   ]
  },
  {
   "cell_type": "markdown",
   "id": "96d0278f",
   "metadata": {},
   "source": [
    "Here we can see that the standard error of the `hours` coefficient is `0.227` points, while the coefficient itself is `1.6371` points.\n",
    "\n",
    "We can interpret this as saying our model predicts that every additional hour of project prep leads to an increase of score by `1.6371` points, where each prediction is expected to have an error of +/- `0.227` points."
   ]
  },
  {
   "cell_type": "markdown",
   "id": "b80eb65f",
   "metadata": {
    "ExecuteTime": {
     "end_time": "2022-04-07T18:42:47.293526Z",
     "start_time": "2022-04-07T18:42:47.276570Z"
    }
   },
   "source": [
    "If we divide the coefficient by the std error, we calculate the t-value."
   ]
  },
  {
   "cell_type": "code",
   "execution_count": 17,
   "id": "04802347",
   "metadata": {
    "scrolled": true
   },
   "outputs": [
    {
     "data": {
      "text/plain": [
       "const    9.158271\n",
       "hours    0.227492\n",
       "dtype: float64"
      ]
     },
     "execution_count": 17,
     "metadata": {},
     "output_type": "execute_result"
    }
   ],
   "source": [
    "# return the standard error for both coefficients in the equation\n",
    "model.bse"
   ]
  },
  {
   "cell_type": "markdown",
   "id": "4ab0e14b",
   "metadata": {
    "ExecuteTime": {
     "end_time": "2022-04-07T19:05:10.008809Z",
     "start_time": "2022-04-07T19:05:09.993849Z"
    }
   },
   "source": [
    "### T - test"
   ]
  },
  {
   "cell_type": "markdown",
   "id": "a65f9d48",
   "metadata": {},
   "source": [
    "To infer if a given feature is significant or relevant to the target variable, we **perform a t-test**. Here instead of **considering all of the features individually**, we perform a t-test on the dependent variable and the independent variable. "
   ]
  },
  {
   "cell_type": "markdown",
   "id": "8c9bb800",
   "metadata": {
    "ExecuteTime": {
     "end_time": "2022-04-07T18:05:05.456364Z",
     "start_time": "2022-04-07T18:05:05.443399Z"
    }
   },
   "source": [
    "**_Null Hypothesis_** $H_{0}$ : If the independent variable's t value is equal to 0, then the intercept-only model **fits the data as well** as our model.\n",
    "\n",
    "**_Alternative Hypothesis_** $H_{1}$ : If the indendent variable's t value is not equal to 0, then the model **fits the data better** than the intercept-only model."
   ]
  },
  {
   "cell_type": "code",
   "execution_count": 18,
   "id": "ffcd688f",
   "metadata": {},
   "outputs": [
    {
     "data": {
      "text/plain": [
       "7.196274387792926"
      ]
     },
     "execution_count": 18,
     "metadata": {},
     "output_type": "execute_result"
    }
   ],
   "source": [
    "# display t-value for hours variable\n",
    "model.tvalues[1]"
   ]
  },
  {
   "cell_type": "markdown",
   "id": "b77eeeb8",
   "metadata": {},
   "source": [
    "The farther the t-value is away from `0`, the greater the chances that we reject the null hypothesis and accept the alternate hypothesis for that feature. \n",
    "\n",
    "With a t-value of `7.196`, we can say that we are more likely to accept the alternate hypothesis that the model fits the data better than the intercept-only model."
   ]
  },
  {
   "cell_type": "markdown",
   "id": "a676a7d1",
   "metadata": {
    "ExecuteTime": {
     "end_time": "2022-04-07T19:05:10.023769Z",
     "start_time": "2022-04-07T19:05:10.009807Z"
    }
   },
   "source": [
    "### P>|t| or p-value "
   ]
  },
  {
   "cell_type": "markdown",
   "id": "836b559c",
   "metadata": {},
   "source": [
    "p-values for the t-test\n",
    "\n",
    "Again we can compare the p-values, or **likelihood that we would observe our data by random chance if our independent variable had no statistically significant relationship to the `score` variable**. \n",
    "\n",
    "When we compare the p-value of the independent variable with a significance threshold of 0.05:"
   ]
  },
  {
   "cell_type": "markdown",
   "id": "b5a0ee18",
   "metadata": {},
   "source": [
    " - 𝑝 < $0.05$ : Reject that there is no relationship between the hours spent on a project and the score received on a project.\n",
    " \n",
    "\n",
    " - 𝑝 >= $0.05$ : Accept the null hypothesis. There is no relationship between the hours spent on a project and the score received on a project."
   ]
  },
  {
   "cell_type": "code",
   "execution_count": 19,
   "id": "37ece9f3",
   "metadata": {},
   "outputs": [
    {
     "data": {
      "text/plain": [
       "0.08860475008767797"
      ]
     },
     "execution_count": 19,
     "metadata": {},
     "output_type": "execute_result"
    }
   ],
   "source": [
    "# check t-statistic probability score for constant\n",
    "model.pvalues[0]"
   ]
  },
  {
   "cell_type": "code",
   "execution_count": 20,
   "id": "54cbd526",
   "metadata": {
    "scrolled": true
   },
   "outputs": [
    {
     "data": {
      "text/plain": [
       "0.0019759786730272353"
      ]
     },
     "execution_count": 20,
     "metadata": {},
     "output_type": "execute_result"
    }
   ],
   "source": [
    "# check t-statistic probability score for hours variable\n",
    "model.pvalues[1]"
   ]
  },
  {
   "cell_type": "markdown",
   "id": "e665696b",
   "metadata": {},
   "source": [
    "Here with a p-value of about `0.002` we would consider **the hours spent on a project sharing a statistically significant relationship with the score a project was graded** with **95% confidence**."
   ]
  },
  {
   "cell_type": "code",
   "execution_count": 21,
   "id": "b14271b1",
   "metadata": {
    "scrolled": true
   },
   "outputs": [
    {
     "data": {
      "text/plain": [
       "<AxesSubplot:xlabel='hours', ylabel='score'>"
      ]
     },
     "execution_count": 21,
     "metadata": {},
     "output_type": "execute_result"
    },
    {
     "data": {
      "image/png": "[encoded data removed]",
      "text/plain": [
       "<Figure size 432x288 with 1 Axes>"
      ]
     },
     "metadata": {
      "needs_background": "light"
     },
     "output_type": "display_data"
    }
   ],
   "source": [
    "# Visualize linear regression model\n",
    "sns.regplot('hours','score', data=score_df)"
   ]
  },
  {
   "cell_type": "markdown",
   "id": "4d9d2769",
   "metadata": {},
   "source": [
    "### Mean Absolute Error"
   ]
  },
  {
   "cell_type": "markdown",
   "id": "9f2c7506",
   "metadata": {},
   "source": [
    "Mean Absolute Error MAE: Represents average error\n",
    "\n",
    "$$MAE = \\frac{1}{n}\\sum_{i=1}^{n}|y_{i} - \\hat y_{i}|$$"
   ]
  },
  {
   "cell_type": "markdown",
   "id": "b9631020",
   "metadata": {},
   "source": [
    "The MAE informs us that **on average, our model has an error of** `1.98` points when **predicting the score of a project**."
   ]
  },
  {
   "cell_type": "code",
   "execution_count": 23,
   "id": "d84bae9c",
   "metadata": {},
   "outputs": [
    {
     "data": {
      "text/plain": [
       "0    1.822581\n",
       "1   -2.814516\n",
       "2    1.637097\n",
       "3    1.725806\n",
       "4   -2.911290\n",
       "5    0.540323\n",
       "dtype: float64"
      ]
     },
     "execution_count": 23,
     "metadata": {},
     "output_type": "execute_result"
    }
   ],
   "source": [
    "# return residuals from model\n",
    "residuals = model.resid\n",
    "residuals"
   ]
  },
  {
   "cell_type": "code",
   "execution_count": 24,
   "id": "e0b6beaf",
   "metadata": {},
   "outputs": [
    {
     "data": {
      "text/plain": [
       "0    76.177419\n",
       "1    77.814516\n",
       "2    84.362903\n",
       "3    89.274194\n",
       "4    90.911290\n",
       "5    97.459677\n",
       "dtype: float64"
      ]
     },
     "execution_count": 24,
     "metadata": {},
     "output_type": "execute_result"
    }
   ],
   "source": [
    "# return predicted values from model\n",
    "y_pred = model.fittedvalues\n",
    "y_pred"
   ]
  },
  {
   "cell_type": "code",
   "execution_count": 25,
   "id": "2ba43677",
   "metadata": {},
   "outputs": [
    {
     "data": {
      "text/plain": [
       "1.908602150537637"
      ]
     },
     "execution_count": 25,
     "metadata": {},
     "output_type": "execute_result"
    }
   ],
   "source": [
    "# mean absolute error\n",
    "mae_resid = np.mean(np.abs(y - y_pred))\n",
    "mae_resid"
   ]
  },
  {
   "cell_type": "markdown",
   "id": "75250b11",
   "metadata": {},
   "source": [
    "### Mean Squared Error"
   ]
  },
  {
   "cell_type": "markdown",
   "id": "33c9e193",
   "metadata": {},
   "source": [
    "The Mean Squared Error, or MSE tells us how close a regression line is to a set of true points. This is achieved by squaring the errors. It contrasts to MAE because it gives more weight to larger distances between the points to the regression line.\n",
    "\n",
    "**MSE is more useful if we are concerned about large errors whose consequences are much larger than equivalent smaller ones**.\n",
    "\n",
    "$$MSE = \\frac{1}{n}\\sum_{i=1}^{n}(y_{i} - \\hat y_{i})^2$$"
   ]
  },
  {
   "cell_type": "code",
   "execution_count": 26,
   "id": "9a27f1dd",
   "metadata": {},
   "outputs": [
    {
     "data": {
      "text/plain": [
       "6.417338709677415"
      ]
     },
     "execution_count": 26,
     "metadata": {},
     "output_type": "execute_result"
    }
   ],
   "source": [
    "# mean squared error\n",
    "mse_resid = model.mse_resid\n",
    "mse_resid"
   ]
  },
  {
   "cell_type": "markdown",
   "id": "0bca75c0",
   "metadata": {},
   "source": [
    "Our MSE is useful if we are comparing the predictive performance of two or more models. It's values are less interpretable than MAE and RMSE because they are not in the same units as our dependent variable.\n",
    "\n",
    "Here we are effectively saying our model has an error of 6.41 points squared..."
   ]
  },
  {
   "cell_type": "markdown",
   "id": "d96e6edb",
   "metadata": {},
   "source": [
    "### Root Mean Squared Error"
   ]
  },
  {
   "cell_type": "markdown",
   "id": "9767cda5",
   "metadata": {},
   "source": [
    "Root Mean Square Error: Interpretable MSE in units of y. \n",
    "\n",
    "RMSE is more sensitive to outliers, and penalizes large errors more than MAE because errors are squared."
   ]
  },
  {
   "cell_type": "markdown",
   "id": "5487ad56",
   "metadata": {},
   "source": [
    "$$RMSE = \\sqrt\\frac{1}{n}\\sum_{i=1}^{n}(y_{i} - \\hat y_{i})^2$$"
   ]
  },
  {
   "cell_type": "code",
   "execution_count": 27,
   "id": "374e95b1",
   "metadata": {},
   "outputs": [
    {
     "data": {
      "text/plain": [
       "2.5332466736734136"
      ]
     },
     "execution_count": 27,
     "metadata": {},
     "output_type": "execute_result"
    }
   ],
   "source": [
    "# root mean squared error\n",
    "rmse_residuals = np.sqrt(model.mse_resid)\n",
    "rmse_residuals"
   ]
  },
  {
   "cell_type": "markdown",
   "id": "bb80c9a1",
   "metadata": {},
   "source": [
    "Here our RMSE informs us that the expected error between the true value and the value our model predicts is 2.53 points when predicting the score of a project in our training data. **This is larger than our MAE of 1.90. When MAE < RMSE, it can be indicative that there are outliers present in our data**."
   ]
  },
  {
   "cell_type": "markdown",
   "id": "3099b6c7",
   "metadata": {},
   "source": [
    "## Assumptions of Linear Regression"
   ]
  },
  {
   "cell_type": "code",
   "execution_count": 28,
   "id": "72581df8",
   "metadata": {},
   "outputs": [],
   "source": [
    "# https://www.kaggle.com/code/mojoflat/step-by-step-assumptions-linear-regression/edit"
   ]
  },
  {
   "cell_type": "markdown",
   "id": "cfcba618",
   "metadata": {},
   "source": [
    "### Linearity"
   ]
  },
  {
   "cell_type": "markdown",
   "id": "f7b335b2",
   "metadata": {},
   "source": [
    "Pairplots are useful tools to check for linearity between the dependent and independent variables. \n",
    "\n",
    "- Ask yourself \"What pattern do I see?\". If a straight line appears to fit the data well, this is a great sign* that there is a linear relationship between the independent and dependent variables."
   ]
  },
  {
   "cell_type": "code",
   "execution_count": 29,
   "id": "302dcdea",
   "metadata": {
    "scrolled": true
   },
   "outputs": [
    {
     "data": {
      "text/plain": [
       "<seaborn.axisgrid.PairGrid at 0x7ff6bd0a8a60>"
      ]
     },
     "execution_count": 29,
     "metadata": {},
     "output_type": "execute_result"
    },
    {
     "data": {
      "image/png": "[encoded data removed]",
      "text/plain": [
       "<Figure size 360x360 with 6 Axes>"
      ]
     },
     "metadata": {
      "needs_background": "light"
     },
     "output_type": "display_data"
    }
   ],
   "source": [
    "# view scatter plots and distribution plots for variables\n",
    "sns.pairplot(score_df)"
   ]
  },
  {
   "cell_type": "markdown",
   "id": "b9bf0727",
   "metadata": {},
   "source": [
    "### Homoscedasticity\n",
    "\n",
    "Simply put we want to find homoscedasticity. This means that the residuals have equal or almost equal variance over the entire regression model. \n",
    "\n",
    "If there are any patterns when we plot residuals by predicted values, such as residuals being higher when the score is higher, etc. it is a sign of heteroscedasticity.\n",
    "\n",
    "By plotting the error terms with predicted terms we can check that there should not be any pattern in the error terms.¶"
   ]
  },
  {
   "cell_type": "code",
   "execution_count": 39,
   "id": "977df31c",
   "metadata": {},
   "outputs": [
    {
     "data": {
      "image/png": "[encoded data removed]",
      "text/plain": [
       "<Figure size 432x288 with 1 Axes>"
      ]
     },
     "metadata": {
      "needs_background": "light"
     },
     "output_type": "display_data"
    }
   ],
   "source": [
    "# plot the residuals against predicted values to \n",
    "# check for homoscedasticity\n",
    "p = sns.scatterplot(y_pred,residuals)\n",
    "plt.xlabel('Predicted y values')\n",
    "plt.ylabel('Residuals')\n",
    "plt.xlim(70,100)\n",
    "p = sns.lineplot([70,100],[0,0],color='blue')\n",
    "p = plt.title('Residuals vs Predicted y value')"
   ]
  },
  {
   "cell_type": "markdown",
   "id": "e2527c00",
   "metadata": {},
   "source": [
    "I can not discern a pattern here, but again we initiated this analysis with an insufficient number of observations.\n",
    "\n",
    "Here it feels safe to assume that there is not a pattern in the error terms."
   ]
  },
  {
   "cell_type": "markdown",
   "id": "e0de09d5",
   "metadata": {},
   "source": [
    "### Normality\n",
    "\n",
    "We want to check that the residuals are normally distributed\n",
    "\n",
    "the central limit theorem says that as the sample size increases the distribution tends to be normal. A skew is also visible from the plot. "
   ]
  },
  {
   "cell_type": "code",
   "execution_count": 55,
   "id": "bf5fdbba",
   "metadata": {
    "scrolled": true
   },
   "outputs": [
    {
     "data": {
      "image/png": "[encoded data removed]",
      "text/plain": [
       "<Figure size 432x288 with 1 Axes>"
      ]
     },
     "metadata": {
      "needs_background": "light"
     },
     "output_type": "display_data"
    }
   ],
   "source": [
    "# check for normality among the residuals\n",
    "p = sns.distplot(residuals,kde=True)\n",
    "p = plt.title('Distribution of the residuals')"
   ]
  },
  {
   "cell_type": "markdown",
   "id": "0b9d63ee",
   "metadata": {},
   "source": [
    "#### Q-Q plot\n",
    "\n",
    "The Q-Q plot, or quantile-quantile plot, is a graphical tool to help us assess if a set of data plausibly came from some theoretical distribution such as a Normal or exponential"
   ]
  },
  {
   "cell_type": "code",
   "execution_count": 38,
   "id": "b6f76bb4",
   "metadata": {},
   "outputs": [
    {
     "data": {
      "image/png": "[encoded data removed]",
      "text/plain": [
       "<Figure size 432x288 with 1 Axes>"
      ]
     },
     "execution_count": 38,
     "metadata": {},
     "output_type": "execute_result"
    },
    {
     "data": {
      "image/png": "[encoded data removed]",
      "text/plain": [
       "<Figure size 432x288 with 1 Axes>"
      ]
     },
     "metadata": {
      "needs_background": "light"
     },
     "output_type": "display_data"
    }
   ],
   "source": [
    "sm.qqplot(residuals, line ='45')"
   ]
  },
  {
   "cell_type": "code",
   "execution_count": null,
   "id": "4bcadffb",
   "metadata": {},
   "outputs": [],
   "source": []
  },
  {
   "cell_type": "markdown",
   "id": "9b400db2",
   "metadata": {},
   "source": [
    "#### Mean of Residuals = 0: "
   ]
  },
  {
   "cell_type": "markdown",
   "id": "4a5f3751",
   "metadata": {},
   "source": [
    "When our residuals have a mean of zero, it is another indicator that they are normally distributed and thus do not form patterns or contain much information hidden from the model."
   ]
  },
  {
   "cell_type": "code",
   "execution_count": 56,
   "id": "a9e0b1c9",
   "metadata": {},
   "outputs": [
    {
     "name": "stdout",
     "output_type": "stream",
     "text": [
      "Mean of Residuals 0.0\n"
     ]
    }
   ],
   "source": [
    "# calculate and print the mean of residuals\n",
    "mean_residuals = np.mean(residuals)\n",
    "print(\"Mean of Residuals {}\".format(mean_residuals))"
   ]
  },
  {
   "cell_type": "markdown",
   "id": "a7bb3659",
   "metadata": {},
   "source": [
    "### Independance of Residuals\n",
    "\n",
    "Ensure that residuals are independent of one another"
   ]
  },
  {
   "cell_type": "markdown",
   "id": "8f2487d7",
   "metadata": {},
   "source": [
    "#### Autocorrelation"
   ]
  },
  {
   "cell_type": "markdown",
   "id": "37865b1a",
   "metadata": {},
   "source": [
    "When checking for autocorrelation among the residuals, we want to make sure our observations are independent of one another.\n",
    "\n",
    "There should not be any kind of pattern found among our residuals, they should be independent of one another.\n",
    "\n",
    "When using the Durbin-Watson statistic to analyze autocorrelation, we consider that the range of the DW statistic is:\n",
    "\n",
    "$$0 ≤ DW ≤ 4$$where\n",
    "\n",
    "- DW should be close to `2` if the Null Hypothesis $H_{0}$ = true\n",
    "- DW $<$ `2` may indicate positive correlation\n",
    "- DW $>$ `2` may indicate positive correlation"
   ]
  },
  {
   "cell_type": "markdown",
   "id": "89fd13fc",
   "metadata": {},
   "source": [
    "#### Durbin-Watson Test\n",
    "\n",
    "The Durbin-Watson Test has two hypotheses:\n",
    "\n",
    "**_Null Hypothesis_** $H_{0}$ : There is no autocorrelation of residuals.\n",
    "\n",
    "   - $𝑝 = 2$ : Accept the null hypothesis. There is no relationship between the residuals of the observations.\n",
    "\n",
    "**_Alternative Hypothesis_** $H_{1}$ : There is a strong autocorrelation between residuals.\n",
    " \n",
    "   - $𝑝 < 2$ or $𝑝 > 2$: Reject that there is no relationship between the residuals of the observations.\n",
    "     "
   ]
  },
  {
   "cell_type": "code",
   "execution_count": 53,
   "id": "176c76ab",
   "metadata": {},
   "outputs": [
    {
     "data": {
      "text/plain": [
       "2.911786912326583"
      ]
     },
     "execution_count": 53,
     "metadata": {},
     "output_type": "execute_result"
    }
   ],
   "source": [
    "# import durbin-watson test from statsmodels\n",
    "from statsmodels.stats.stattools import durbin_watson\n",
    "\n",
    "durbin_watson(residuals)"
   ]
  },
  {
   "cell_type": "markdown",
   "id": "750a805d",
   "metadata": {},
   "source": [
    "It looks like there is some degree of correlation between the residuals, we can plot this as well using a line plot where we connect the points of the residual against the predicted y values."
   ]
  },
  {
   "cell_type": "code",
   "execution_count": 49,
   "id": "6756fb5a",
   "metadata": {},
   "outputs": [
    {
     "data": {
      "image/png": "[encoded data removed]",
      "text/plain": [
       "<Figure size 720x360 with 1 Axes>"
      ]
     },
     "metadata": {
      "needs_background": "light"
     },
     "output_type": "display_data"
    }
   ],
   "source": [
    "# check for autocorrelation using lineplot\n",
    "plt.figure(figsize=(10,5))\n",
    "p = sns.lineplot(y_pred,residuals,marker='o',color='blue')\n",
    "plt.xlabel('Predicted y values')\n",
    "plt.ylabel('Residuals')\n",
    "plt.xlim(70,100)\n",
    "p = sns.lineplot([70,100],[0,0],color='red')\n",
    "p = plt.title('Residuals vs Predicted y values')"
   ]
  },
  {
   "cell_type": "markdown",
   "id": "6efd7247",
   "metadata": {},
   "source": [
    "Time series is linearly related to a lagged version of itself. \n",
    "\n",
    "The coefficient of correlation between two values in a time series is called the autocorrelation function (ACF).\n",
    "\n",
    "By plotting the autocorrelation function, we can visualize if there is any high autocorrelation between the residuals. Here the ACF would inform us that there is little correlation between residuals."
   ]
  },
  {
   "cell_type": "code",
   "execution_count": 34,
   "id": "54788acf",
   "metadata": {},
   "outputs": [
    {
     "data": {
      "image/png": "[encoded data removed]",
      "text/plain": [
       "<Figure size 432x288 with 1 Axes>"
      ]
     },
     "metadata": {
      "needs_background": "light"
     },
     "output_type": "display_data"
    }
   ],
   "source": [
    "# check for autocorrelation with ACF\n",
    "sm.graphics.tsa.plot_acf(residuals, lags=5)\n",
    "plt.show()"
   ]
  },
  {
   "cell_type": "markdown",
   "id": "2a3fb1cc",
   "metadata": {},
   "source": [
    "#### No perfect multicollinearity"
   ]
  },
  {
   "cell_type": "markdown",
   "id": "dd0d147d",
   "metadata": {},
   "source": [
    "While we want our `hours` variable to have a statistically significant relationship to `score`, a perfect `1.0` correlation would be somewhat suspicious. Here the Pearson Correlation Coefficient for `hours` is 0.96. \n",
    "\n",
    "With such a small sample size it can be expected to have a high correlation coefficient."
   ]
  },
  {
   "cell_type": "code",
   "execution_count": 48,
   "id": "e95ab2e0",
   "metadata": {
    "scrolled": true
   },
   "outputs": [
    {
     "data": {
      "text/plain": [
       "<AxesSubplot:>"
      ]
     },
     "execution_count": 48,
     "metadata": {},
     "output_type": "execute_result"
    },
    {
     "data": {
      "image/png": "[encoded data removed]",
      "text/plain": [
       "<Figure size 432x288 with 2 Axes>"
      ]
     },
     "metadata": {
      "needs_background": "light"
     },
     "output_type": "display_data"
    }
   ],
   "source": [
    "# heatmap of correlation between hours and score\n",
    "sns.heatmap(score_df.corr(), annot=True,cmap='YlGnBu',square=True)"
   ]
  },
  {
   "cell_type": "markdown",
   "id": "aa1c38eb",
   "metadata": {},
   "source": [
    "##### Anscombe's Quartet"
   ]
  },
  {
   "cell_type": "code",
   "execution_count": 36,
   "id": "01ce6e3c",
   "metadata": {},
   "outputs": [
    {
     "data": {
      "image/png": "[encoded data removed]",
      "text/plain": [
       "<Figure size 432x432 with 4 Axes>"
      ]
     },
     "metadata": {
      "needs_background": "light"
     },
     "output_type": "display_data"
    }
   ],
   "source": [
    "# https://matplotlib.org/stable/gallery/specialty_plots/anscombe.html\n",
    "\n",
    "x = [10, 8, 13, 9, 11, 14, 6, 4, 12, 7, 5]\n",
    "y1 = [8.04, 6.95, 7.58, 8.81, 8.33, 9.96, 7.24, 4.26, 10.84, 4.82, 5.68]\n",
    "y2 = [9.14, 8.14, 8.74, 8.77, 9.26, 8.10, 6.13, 3.10, 9.13, 7.26, 4.74]\n",
    "y3 = [7.46, 6.77, 12.74, 7.11, 7.81, 8.84, 6.08, 5.39, 8.15, 6.42, 5.73]\n",
    "x4 = [8, 8, 8, 8, 8, 8, 8, 19, 8, 8, 8]\n",
    "y4 = [6.58, 5.76, 7.71, 8.84, 8.47, 7.04, 5.25, 12.50, 5.56, 7.91, 6.89]\n",
    "\n",
    "datasets = {\n",
    "    'I': (x, y1),\n",
    "    'II': (x, y2),\n",
    "    'III': (x, y3),\n",
    "    'IV': (x4, y4)\n",
    "}\n",
    "\n",
    "fig, axs = plt.subplots(2, 2, sharex=True, sharey=True, figsize=(6, 6),\n",
    "                        gridspec_kw={'wspace': 0.08, 'hspace': 0.08})\n",
    "axs[0, 0].set(xlim=(0, 20), ylim=(2, 14))\n",
    "axs[0, 0].set(xticks=(0, 10, 20), yticks=(4, 8, 12))\n",
    "\n",
    "for ax, (label, (x, y)) in zip(axs.flat, datasets.items()):\n",
    "    ax.text(0.1, 0.9, label, fontsize=20, transform=ax.transAxes, va='top')\n",
    "    ax.tick_params(direction='in', top=True, right=True)\n",
    "    ax.plot(x, y, 'o')\n",
    "\n",
    "    # linear regression\n",
    "    p1, p0 = np.polyfit(x, y, deg=1)  # slope, intercept\n",
    "    ax.axline(xy1=(0, p0), slope=p1, color='r', lw=2)\n",
    "\n",
    "    # add text box for the statistics\n",
    "    stats = (f'$\\\\mu$ = {np.mean(y):.2f}\\n'\n",
    "             f'$\\\\sigma$ = {np.std(y):.2f}\\n'\n",
    "             f'$r$ = {np.corrcoef(x, y)[0][1]:.2f}')\n",
    "    #bbox = dict(boxstyle='round', fc='blanchedalmond', ec='orange', alpha=0.5)\n",
    "    ax.text(0.95, 0.07, stats, fontsize=9, \n",
    "            transform=ax.transAxes, horizontalalignment='right')\n",
    "\n",
    "plt.show()"
   ]
  },
  {
   "cell_type": "code",
   "execution_count": null,
   "id": "d1657eb9",
   "metadata": {},
   "outputs": [],
   "source": []
  }
 ],
 "metadata": {
  "kernelspec": {
   "display_name": "Python 3 (ipykernel)",
   "language": "python",
   "name": "python3"
  },
  "language_info": {
   "codemirror_mode": {
    "name": "ipython",
    "version": 3
   },
   "file_extension": ".py",
   "mimetype": "text/x-python",
   "name": "python",
   "nbconvert_exporter": "python",
   "pygments_lexer": "ipython3",
   "version": "3.9.7"
  },
  "toc": {
   "base_numbering": 1,
   "nav_menu": {},
   "number_sections": true,
   "sideBar": true,
   "skip_h1_title": false,
   "title_cell": "Table of Contents",
   "title_sidebar": "Contents",
   "toc_cell": false,
   "toc_position": {
    "height": "calc(100% - 180px)",
    "left": "10px",
    "top": "150px",
    "width": "298.398px"
   },
   "toc_section_display": true,
   "toc_window_display": false
  }
 },
 "nbformat": 4,
 "nbformat_minor": 5
}
